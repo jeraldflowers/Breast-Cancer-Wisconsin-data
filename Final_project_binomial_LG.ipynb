{
  "nbformat": 4,
  "nbformat_minor": 0,
  "metadata": {
    "colab": {
      "provenance": [],
      "authorship_tag": "ABX9TyNdGsNV/TN6J1PmVxKzA/1b",
      "include_colab_link": true
    },
    "kernelspec": {
      "name": "python3",
      "display_name": "Python 3"
    },
    "language_info": {
      "name": "python"
    }
  },
  "cells": [
    {
      "cell_type": "markdown",
      "metadata": {
        "id": "view-in-github",
        "colab_type": "text"
      },
      "source": [
        "<a href=\"https://colab.research.google.com/github/jeraldflowers/Breast-Cancer-Wisconsin-data/blob/main/Final_project_binomial_LG.ipynb\" target=\"_parent\"><img src=\"https://colab.research.google.com/assets/colab-badge.svg\" alt=\"Open In Colab\"/></a>"
      ]
    },
    {
      "cell_type": "markdown",
      "source": [
        "# Breast Cancer Wisconsin (Diagnostic) Data Set\n",
        "\n",
        "Predict whether the cancer is benign or malignant\n",
        "\n"
      ],
      "metadata": {
        "id": "RhudYCm2P7IW"
      }
    },
    {
      "cell_type": "markdown",
      "source": [
        "## Import Libraries"
      ],
      "metadata": {
        "id": "fOw60ynuRjmb"
      }
    },
    {
      "cell_type": "code",
      "execution_count": 16,
      "metadata": {
        "id": "UWh2Z2jOPjr-"
      },
      "outputs": [],
      "source": [
        "import pandas as pd\n",
        "import numpy as np"
      ]
    },
    {
      "cell_type": "markdown",
      "source": [
        "## Data Load"
      ],
      "metadata": {
        "id": "GLtvFUvoRogL"
      }
    },
    {
      "cell_type": "code",
      "source": [
        "df_data = pd.read_csv('/content/data.csv')"
      ],
      "metadata": {
        "id": "1NkDN8psQggq"
      },
      "execution_count": 17,
      "outputs": []
    },
    {
      "cell_type": "code",
      "source": [
        "df_data.head(5)"
      ],
      "metadata": {
        "colab": {
          "base_uri": "https://localhost:8080/",
          "height": 317
        },
        "id": "zLA_QvkWQwyV",
        "outputId": "838f790f-04e3-48b8-b9cb-861a92e7c24d"
      },
      "execution_count": 18,
      "outputs": [
        {
          "output_type": "execute_result",
          "data": {
            "text/plain": [
              "         id diagnosis  radius_mean  texture_mean  perimeter_mean  area_mean  \\\n",
              "0    842302         M        17.99         10.38          122.80     1001.0   \n",
              "1    842517         M        20.57         17.77          132.90     1326.0   \n",
              "2  84300903         M        19.69         21.25          130.00     1203.0   \n",
              "3  84348301         M        11.42         20.38           77.58      386.1   \n",
              "4  84358402         M        20.29         14.34          135.10     1297.0   \n",
              "\n",
              "   smoothness_mean  compactness_mean  concavity_mean  concave points_mean  \\\n",
              "0          0.11840           0.27760          0.3001              0.14710   \n",
              "1          0.08474           0.07864          0.0869              0.07017   \n",
              "2          0.10960           0.15990          0.1974              0.12790   \n",
              "3          0.14250           0.28390          0.2414              0.10520   \n",
              "4          0.10030           0.13280          0.1980              0.10430   \n",
              "\n",
              "   ...  texture_worst  perimeter_worst  area_worst  smoothness_worst  \\\n",
              "0  ...          17.33           184.60      2019.0            0.1622   \n",
              "1  ...          23.41           158.80      1956.0            0.1238   \n",
              "2  ...          25.53           152.50      1709.0            0.1444   \n",
              "3  ...          26.50            98.87       567.7            0.2098   \n",
              "4  ...          16.67           152.20      1575.0            0.1374   \n",
              "\n",
              "   compactness_worst  concavity_worst  concave points_worst  symmetry_worst  \\\n",
              "0             0.6656           0.7119                0.2654          0.4601   \n",
              "1             0.1866           0.2416                0.1860          0.2750   \n",
              "2             0.4245           0.4504                0.2430          0.3613   \n",
              "3             0.8663           0.6869                0.2575          0.6638   \n",
              "4             0.2050           0.4000                0.1625          0.2364   \n",
              "\n",
              "   fractal_dimension_worst  Unnamed: 32  \n",
              "0                  0.11890          NaN  \n",
              "1                  0.08902          NaN  \n",
              "2                  0.08758          NaN  \n",
              "3                  0.17300          NaN  \n",
              "4                  0.07678          NaN  \n",
              "\n",
              "[5 rows x 33 columns]"
            ],
            "text/html": [
              "\n",
              "  <div id=\"df-8c338c91-5686-47b6-a45e-b4bb85f2a14c\">\n",
              "    <div class=\"colab-df-container\">\n",
              "      <div>\n",
              "<style scoped>\n",
              "    .dataframe tbody tr th:only-of-type {\n",
              "        vertical-align: middle;\n",
              "    }\n",
              "\n",
              "    .dataframe tbody tr th {\n",
              "        vertical-align: top;\n",
              "    }\n",
              "\n",
              "    .dataframe thead th {\n",
              "        text-align: right;\n",
              "    }\n",
              "</style>\n",
              "<table border=\"1\" class=\"dataframe\">\n",
              "  <thead>\n",
              "    <tr style=\"text-align: right;\">\n",
              "      <th></th>\n",
              "      <th>id</th>\n",
              "      <th>diagnosis</th>\n",
              "      <th>radius_mean</th>\n",
              "      <th>texture_mean</th>\n",
              "      <th>perimeter_mean</th>\n",
              "      <th>area_mean</th>\n",
              "      <th>smoothness_mean</th>\n",
              "      <th>compactness_mean</th>\n",
              "      <th>concavity_mean</th>\n",
              "      <th>concave points_mean</th>\n",
              "      <th>...</th>\n",
              "      <th>texture_worst</th>\n",
              "      <th>perimeter_worst</th>\n",
              "      <th>area_worst</th>\n",
              "      <th>smoothness_worst</th>\n",
              "      <th>compactness_worst</th>\n",
              "      <th>concavity_worst</th>\n",
              "      <th>concave points_worst</th>\n",
              "      <th>symmetry_worst</th>\n",
              "      <th>fractal_dimension_worst</th>\n",
              "      <th>Unnamed: 32</th>\n",
              "    </tr>\n",
              "  </thead>\n",
              "  <tbody>\n",
              "    <tr>\n",
              "      <th>0</th>\n",
              "      <td>842302</td>\n",
              "      <td>M</td>\n",
              "      <td>17.99</td>\n",
              "      <td>10.38</td>\n",
              "      <td>122.80</td>\n",
              "      <td>1001.0</td>\n",
              "      <td>0.11840</td>\n",
              "      <td>0.27760</td>\n",
              "      <td>0.3001</td>\n",
              "      <td>0.14710</td>\n",
              "      <td>...</td>\n",
              "      <td>17.33</td>\n",
              "      <td>184.60</td>\n",
              "      <td>2019.0</td>\n",
              "      <td>0.1622</td>\n",
              "      <td>0.6656</td>\n",
              "      <td>0.7119</td>\n",
              "      <td>0.2654</td>\n",
              "      <td>0.4601</td>\n",
              "      <td>0.11890</td>\n",
              "      <td>NaN</td>\n",
              "    </tr>\n",
              "    <tr>\n",
              "      <th>1</th>\n",
              "      <td>842517</td>\n",
              "      <td>M</td>\n",
              "      <td>20.57</td>\n",
              "      <td>17.77</td>\n",
              "      <td>132.90</td>\n",
              "      <td>1326.0</td>\n",
              "      <td>0.08474</td>\n",
              "      <td>0.07864</td>\n",
              "      <td>0.0869</td>\n",
              "      <td>0.07017</td>\n",
              "      <td>...</td>\n",
              "      <td>23.41</td>\n",
              "      <td>158.80</td>\n",
              "      <td>1956.0</td>\n",
              "      <td>0.1238</td>\n",
              "      <td>0.1866</td>\n",
              "      <td>0.2416</td>\n",
              "      <td>0.1860</td>\n",
              "      <td>0.2750</td>\n",
              "      <td>0.08902</td>\n",
              "      <td>NaN</td>\n",
              "    </tr>\n",
              "    <tr>\n",
              "      <th>2</th>\n",
              "      <td>84300903</td>\n",
              "      <td>M</td>\n",
              "      <td>19.69</td>\n",
              "      <td>21.25</td>\n",
              "      <td>130.00</td>\n",
              "      <td>1203.0</td>\n",
              "      <td>0.10960</td>\n",
              "      <td>0.15990</td>\n",
              "      <td>0.1974</td>\n",
              "      <td>0.12790</td>\n",
              "      <td>...</td>\n",
              "      <td>25.53</td>\n",
              "      <td>152.50</td>\n",
              "      <td>1709.0</td>\n",
              "      <td>0.1444</td>\n",
              "      <td>0.4245</td>\n",
              "      <td>0.4504</td>\n",
              "      <td>0.2430</td>\n",
              "      <td>0.3613</td>\n",
              "      <td>0.08758</td>\n",
              "      <td>NaN</td>\n",
              "    </tr>\n",
              "    <tr>\n",
              "      <th>3</th>\n",
              "      <td>84348301</td>\n",
              "      <td>M</td>\n",
              "      <td>11.42</td>\n",
              "      <td>20.38</td>\n",
              "      <td>77.58</td>\n",
              "      <td>386.1</td>\n",
              "      <td>0.14250</td>\n",
              "      <td>0.28390</td>\n",
              "      <td>0.2414</td>\n",
              "      <td>0.10520</td>\n",
              "      <td>...</td>\n",
              "      <td>26.50</td>\n",
              "      <td>98.87</td>\n",
              "      <td>567.7</td>\n",
              "      <td>0.2098</td>\n",
              "      <td>0.8663</td>\n",
              "      <td>0.6869</td>\n",
              "      <td>0.2575</td>\n",
              "      <td>0.6638</td>\n",
              "      <td>0.17300</td>\n",
              "      <td>NaN</td>\n",
              "    </tr>\n",
              "    <tr>\n",
              "      <th>4</th>\n",
              "      <td>84358402</td>\n",
              "      <td>M</td>\n",
              "      <td>20.29</td>\n",
              "      <td>14.34</td>\n",
              "      <td>135.10</td>\n",
              "      <td>1297.0</td>\n",
              "      <td>0.10030</td>\n",
              "      <td>0.13280</td>\n",
              "      <td>0.1980</td>\n",
              "      <td>0.10430</td>\n",
              "      <td>...</td>\n",
              "      <td>16.67</td>\n",
              "      <td>152.20</td>\n",
              "      <td>1575.0</td>\n",
              "      <td>0.1374</td>\n",
              "      <td>0.2050</td>\n",
              "      <td>0.4000</td>\n",
              "      <td>0.1625</td>\n",
              "      <td>0.2364</td>\n",
              "      <td>0.07678</td>\n",
              "      <td>NaN</td>\n",
              "    </tr>\n",
              "  </tbody>\n",
              "</table>\n",
              "<p>5 rows × 33 columns</p>\n",
              "</div>\n",
              "      <button class=\"colab-df-convert\" onclick=\"convertToInteractive('df-8c338c91-5686-47b6-a45e-b4bb85f2a14c')\"\n",
              "              title=\"Convert this dataframe to an interactive table.\"\n",
              "              style=\"display:none;\">\n",
              "        \n",
              "  <svg xmlns=\"http://www.w3.org/2000/svg\" height=\"24px\"viewBox=\"0 0 24 24\"\n",
              "       width=\"24px\">\n",
              "    <path d=\"M0 0h24v24H0V0z\" fill=\"none\"/>\n",
              "    <path d=\"M18.56 5.44l.94 2.06.94-2.06 2.06-.94-2.06-.94-.94-2.06-.94 2.06-2.06.94zm-11 1L8.5 8.5l.94-2.06 2.06-.94-2.06-.94L8.5 2.5l-.94 2.06-2.06.94zm10 10l.94 2.06.94-2.06 2.06-.94-2.06-.94-.94-2.06-.94 2.06-2.06.94z\"/><path d=\"M17.41 7.96l-1.37-1.37c-.4-.4-.92-.59-1.43-.59-.52 0-1.04.2-1.43.59L10.3 9.45l-7.72 7.72c-.78.78-.78 2.05 0 2.83L4 21.41c.39.39.9.59 1.41.59.51 0 1.02-.2 1.41-.59l7.78-7.78 2.81-2.81c.8-.78.8-2.07 0-2.86zM5.41 20L4 18.59l7.72-7.72 1.47 1.35L5.41 20z\"/>\n",
              "  </svg>\n",
              "      </button>\n",
              "      \n",
              "  <style>\n",
              "    .colab-df-container {\n",
              "      display:flex;\n",
              "      flex-wrap:wrap;\n",
              "      gap: 12px;\n",
              "    }\n",
              "\n",
              "    .colab-df-convert {\n",
              "      background-color: #E8F0FE;\n",
              "      border: none;\n",
              "      border-radius: 50%;\n",
              "      cursor: pointer;\n",
              "      display: none;\n",
              "      fill: #1967D2;\n",
              "      height: 32px;\n",
              "      padding: 0 0 0 0;\n",
              "      width: 32px;\n",
              "    }\n",
              "\n",
              "    .colab-df-convert:hover {\n",
              "      background-color: #E2EBFA;\n",
              "      box-shadow: 0px 1px 2px rgba(60, 64, 67, 0.3), 0px 1px 3px 1px rgba(60, 64, 67, 0.15);\n",
              "      fill: #174EA6;\n",
              "    }\n",
              "\n",
              "    [theme=dark] .colab-df-convert {\n",
              "      background-color: #3B4455;\n",
              "      fill: #D2E3FC;\n",
              "    }\n",
              "\n",
              "    [theme=dark] .colab-df-convert:hover {\n",
              "      background-color: #434B5C;\n",
              "      box-shadow: 0px 1px 3px 1px rgba(0, 0, 0, 0.15);\n",
              "      filter: drop-shadow(0px 1px 2px rgba(0, 0, 0, 0.3));\n",
              "      fill: #FFFFFF;\n",
              "    }\n",
              "  </style>\n",
              "\n",
              "      <script>\n",
              "        const buttonEl =\n",
              "          document.querySelector('#df-8c338c91-5686-47b6-a45e-b4bb85f2a14c button.colab-df-convert');\n",
              "        buttonEl.style.display =\n",
              "          google.colab.kernel.accessAllowed ? 'block' : 'none';\n",
              "\n",
              "        async function convertToInteractive(key) {\n",
              "          const element = document.querySelector('#df-8c338c91-5686-47b6-a45e-b4bb85f2a14c');\n",
              "          const dataTable =\n",
              "            await google.colab.kernel.invokeFunction('convertToInteractive',\n",
              "                                                     [key], {});\n",
              "          if (!dataTable) return;\n",
              "\n",
              "          const docLinkHtml = 'Like what you see? Visit the ' +\n",
              "            '<a target=\"_blank\" href=https://colab.research.google.com/notebooks/data_table.ipynb>data table notebook</a>'\n",
              "            + ' to learn more about interactive tables.';\n",
              "          element.innerHTML = '';\n",
              "          dataTable['output_type'] = 'display_data';\n",
              "          await google.colab.output.renderOutput(dataTable, element);\n",
              "          const docLink = document.createElement('div');\n",
              "          docLink.innerHTML = docLinkHtml;\n",
              "          element.appendChild(docLink);\n",
              "        }\n",
              "      </script>\n",
              "    </div>\n",
              "  </div>\n",
              "  "
            ]
          },
          "metadata": {},
          "execution_count": 18
        }
      ]
    },
    {
      "cell_type": "code",
      "source": [
        "df_data.isnull().sum()"
      ],
      "metadata": {
        "colab": {
          "base_uri": "https://localhost:8080/"
        },
        "id": "RY-gO9x3VHGN",
        "outputId": "13282b1a-f40b-4c8f-d58e-2ee3b6670d01"
      },
      "execution_count": 19,
      "outputs": [
        {
          "output_type": "execute_result",
          "data": {
            "text/plain": [
              "id                           0\n",
              "diagnosis                    0\n",
              "radius_mean                  0\n",
              "texture_mean                 0\n",
              "perimeter_mean               0\n",
              "area_mean                    0\n",
              "smoothness_mean              0\n",
              "compactness_mean             0\n",
              "concavity_mean               0\n",
              "concave points_mean          0\n",
              "symmetry_mean                0\n",
              "fractal_dimension_mean       0\n",
              "radius_se                    0\n",
              "texture_se                   0\n",
              "perimeter_se                 0\n",
              "area_se                      0\n",
              "smoothness_se                0\n",
              "compactness_se               0\n",
              "concavity_se                 0\n",
              "concave points_se            0\n",
              "symmetry_se                  0\n",
              "fractal_dimension_se         0\n",
              "radius_worst                 0\n",
              "texture_worst                0\n",
              "perimeter_worst              0\n",
              "area_worst                   0\n",
              "smoothness_worst             0\n",
              "compactness_worst            0\n",
              "concavity_worst              0\n",
              "concave points_worst         0\n",
              "symmetry_worst               0\n",
              "fractal_dimension_worst      0\n",
              "Unnamed: 32                569\n",
              "dtype: int64"
            ]
          },
          "metadata": {},
          "execution_count": 19
        }
      ]
    },
    {
      "cell_type": "code",
      "source": [
        "df_data.info()"
      ],
      "metadata": {
        "colab": {
          "base_uri": "https://localhost:8080/"
        },
        "id": "YWqjicO6Q0qS",
        "outputId": "a44c05d4-5a8c-44ad-9890-71a11abc8dc4"
      },
      "execution_count": 20,
      "outputs": [
        {
          "output_type": "stream",
          "name": "stdout",
          "text": [
            "<class 'pandas.core.frame.DataFrame'>\n",
            "RangeIndex: 569 entries, 0 to 568\n",
            "Data columns (total 33 columns):\n",
            " #   Column                   Non-Null Count  Dtype  \n",
            "---  ------                   --------------  -----  \n",
            " 0   id                       569 non-null    int64  \n",
            " 1   diagnosis                569 non-null    object \n",
            " 2   radius_mean              569 non-null    float64\n",
            " 3   texture_mean             569 non-null    float64\n",
            " 4   perimeter_mean           569 non-null    float64\n",
            " 5   area_mean                569 non-null    float64\n",
            " 6   smoothness_mean          569 non-null    float64\n",
            " 7   compactness_mean         569 non-null    float64\n",
            " 8   concavity_mean           569 non-null    float64\n",
            " 9   concave points_mean      569 non-null    float64\n",
            " 10  symmetry_mean            569 non-null    float64\n",
            " 11  fractal_dimension_mean   569 non-null    float64\n",
            " 12  radius_se                569 non-null    float64\n",
            " 13  texture_se               569 non-null    float64\n",
            " 14  perimeter_se             569 non-null    float64\n",
            " 15  area_se                  569 non-null    float64\n",
            " 16  smoothness_se            569 non-null    float64\n",
            " 17  compactness_se           569 non-null    float64\n",
            " 18  concavity_se             569 non-null    float64\n",
            " 19  concave points_se        569 non-null    float64\n",
            " 20  symmetry_se              569 non-null    float64\n",
            " 21  fractal_dimension_se     569 non-null    float64\n",
            " 22  radius_worst             569 non-null    float64\n",
            " 23  texture_worst            569 non-null    float64\n",
            " 24  perimeter_worst          569 non-null    float64\n",
            " 25  area_worst               569 non-null    float64\n",
            " 26  smoothness_worst         569 non-null    float64\n",
            " 27  compactness_worst        569 non-null    float64\n",
            " 28  concavity_worst          569 non-null    float64\n",
            " 29  concave points_worst     569 non-null    float64\n",
            " 30  symmetry_worst           569 non-null    float64\n",
            " 31  fractal_dimension_worst  569 non-null    float64\n",
            " 32  Unnamed: 32              0 non-null      float64\n",
            "dtypes: float64(31), int64(1), object(1)\n",
            "memory usage: 146.8+ KB\n"
          ]
        }
      ]
    },
    {
      "cell_type": "markdown",
      "source": [
        "We notice that in our data set there is a column that has no data, we will eliminate it to work more comfortably."
      ],
      "metadata": {
        "id": "L-KgLJXvRsKL"
      }
    },
    {
      "cell_type": "markdown",
      "source": [
        "## Delete Unnamed: 32"
      ],
      "metadata": {
        "id": "jQ18wntCSCWI"
      }
    },
    {
      "cell_type": "code",
      "source": [
        "df_data.drop('Unnamed: 32', axis=1, inplace=True)"
      ],
      "metadata": {
        "id": "MxJqKukkQ-KQ"
      },
      "execution_count": 21,
      "outputs": []
    },
    {
      "cell_type": "code",
      "source": [
        "df_data.head(5)"
      ],
      "metadata": {
        "colab": {
          "base_uri": "https://localhost:8080/",
          "height": 317
        },
        "id": "X0gnanx4RNQx",
        "outputId": "fd4e0706-3b20-455f-a208-1961ed3163db"
      },
      "execution_count": 22,
      "outputs": [
        {
          "output_type": "execute_result",
          "data": {
            "text/plain": [
              "         id diagnosis  radius_mean  texture_mean  perimeter_mean  area_mean  \\\n",
              "0    842302         M        17.99         10.38          122.80     1001.0   \n",
              "1    842517         M        20.57         17.77          132.90     1326.0   \n",
              "2  84300903         M        19.69         21.25          130.00     1203.0   \n",
              "3  84348301         M        11.42         20.38           77.58      386.1   \n",
              "4  84358402         M        20.29         14.34          135.10     1297.0   \n",
              "\n",
              "   smoothness_mean  compactness_mean  concavity_mean  concave points_mean  \\\n",
              "0          0.11840           0.27760          0.3001              0.14710   \n",
              "1          0.08474           0.07864          0.0869              0.07017   \n",
              "2          0.10960           0.15990          0.1974              0.12790   \n",
              "3          0.14250           0.28390          0.2414              0.10520   \n",
              "4          0.10030           0.13280          0.1980              0.10430   \n",
              "\n",
              "   ...  radius_worst  texture_worst  perimeter_worst  area_worst  \\\n",
              "0  ...         25.38          17.33           184.60      2019.0   \n",
              "1  ...         24.99          23.41           158.80      1956.0   \n",
              "2  ...         23.57          25.53           152.50      1709.0   \n",
              "3  ...         14.91          26.50            98.87       567.7   \n",
              "4  ...         22.54          16.67           152.20      1575.0   \n",
              "\n",
              "   smoothness_worst  compactness_worst  concavity_worst  concave points_worst  \\\n",
              "0            0.1622             0.6656           0.7119                0.2654   \n",
              "1            0.1238             0.1866           0.2416                0.1860   \n",
              "2            0.1444             0.4245           0.4504                0.2430   \n",
              "3            0.2098             0.8663           0.6869                0.2575   \n",
              "4            0.1374             0.2050           0.4000                0.1625   \n",
              "\n",
              "   symmetry_worst  fractal_dimension_worst  \n",
              "0          0.4601                  0.11890  \n",
              "1          0.2750                  0.08902  \n",
              "2          0.3613                  0.08758  \n",
              "3          0.6638                  0.17300  \n",
              "4          0.2364                  0.07678  \n",
              "\n",
              "[5 rows x 32 columns]"
            ],
            "text/html": [
              "\n",
              "  <div id=\"df-cf98320a-bef1-4d88-8956-33fd2df622e4\">\n",
              "    <div class=\"colab-df-container\">\n",
              "      <div>\n",
              "<style scoped>\n",
              "    .dataframe tbody tr th:only-of-type {\n",
              "        vertical-align: middle;\n",
              "    }\n",
              "\n",
              "    .dataframe tbody tr th {\n",
              "        vertical-align: top;\n",
              "    }\n",
              "\n",
              "    .dataframe thead th {\n",
              "        text-align: right;\n",
              "    }\n",
              "</style>\n",
              "<table border=\"1\" class=\"dataframe\">\n",
              "  <thead>\n",
              "    <tr style=\"text-align: right;\">\n",
              "      <th></th>\n",
              "      <th>id</th>\n",
              "      <th>diagnosis</th>\n",
              "      <th>radius_mean</th>\n",
              "      <th>texture_mean</th>\n",
              "      <th>perimeter_mean</th>\n",
              "      <th>area_mean</th>\n",
              "      <th>smoothness_mean</th>\n",
              "      <th>compactness_mean</th>\n",
              "      <th>concavity_mean</th>\n",
              "      <th>concave points_mean</th>\n",
              "      <th>...</th>\n",
              "      <th>radius_worst</th>\n",
              "      <th>texture_worst</th>\n",
              "      <th>perimeter_worst</th>\n",
              "      <th>area_worst</th>\n",
              "      <th>smoothness_worst</th>\n",
              "      <th>compactness_worst</th>\n",
              "      <th>concavity_worst</th>\n",
              "      <th>concave points_worst</th>\n",
              "      <th>symmetry_worst</th>\n",
              "      <th>fractal_dimension_worst</th>\n",
              "    </tr>\n",
              "  </thead>\n",
              "  <tbody>\n",
              "    <tr>\n",
              "      <th>0</th>\n",
              "      <td>842302</td>\n",
              "      <td>M</td>\n",
              "      <td>17.99</td>\n",
              "      <td>10.38</td>\n",
              "      <td>122.80</td>\n",
              "      <td>1001.0</td>\n",
              "      <td>0.11840</td>\n",
              "      <td>0.27760</td>\n",
              "      <td>0.3001</td>\n",
              "      <td>0.14710</td>\n",
              "      <td>...</td>\n",
              "      <td>25.38</td>\n",
              "      <td>17.33</td>\n",
              "      <td>184.60</td>\n",
              "      <td>2019.0</td>\n",
              "      <td>0.1622</td>\n",
              "      <td>0.6656</td>\n",
              "      <td>0.7119</td>\n",
              "      <td>0.2654</td>\n",
              "      <td>0.4601</td>\n",
              "      <td>0.11890</td>\n",
              "    </tr>\n",
              "    <tr>\n",
              "      <th>1</th>\n",
              "      <td>842517</td>\n",
              "      <td>M</td>\n",
              "      <td>20.57</td>\n",
              "      <td>17.77</td>\n",
              "      <td>132.90</td>\n",
              "      <td>1326.0</td>\n",
              "      <td>0.08474</td>\n",
              "      <td>0.07864</td>\n",
              "      <td>0.0869</td>\n",
              "      <td>0.07017</td>\n",
              "      <td>...</td>\n",
              "      <td>24.99</td>\n",
              "      <td>23.41</td>\n",
              "      <td>158.80</td>\n",
              "      <td>1956.0</td>\n",
              "      <td>0.1238</td>\n",
              "      <td>0.1866</td>\n",
              "      <td>0.2416</td>\n",
              "      <td>0.1860</td>\n",
              "      <td>0.2750</td>\n",
              "      <td>0.08902</td>\n",
              "    </tr>\n",
              "    <tr>\n",
              "      <th>2</th>\n",
              "      <td>84300903</td>\n",
              "      <td>M</td>\n",
              "      <td>19.69</td>\n",
              "      <td>21.25</td>\n",
              "      <td>130.00</td>\n",
              "      <td>1203.0</td>\n",
              "      <td>0.10960</td>\n",
              "      <td>0.15990</td>\n",
              "      <td>0.1974</td>\n",
              "      <td>0.12790</td>\n",
              "      <td>...</td>\n",
              "      <td>23.57</td>\n",
              "      <td>25.53</td>\n",
              "      <td>152.50</td>\n",
              "      <td>1709.0</td>\n",
              "      <td>0.1444</td>\n",
              "      <td>0.4245</td>\n",
              "      <td>0.4504</td>\n",
              "      <td>0.2430</td>\n",
              "      <td>0.3613</td>\n",
              "      <td>0.08758</td>\n",
              "    </tr>\n",
              "    <tr>\n",
              "      <th>3</th>\n",
              "      <td>84348301</td>\n",
              "      <td>M</td>\n",
              "      <td>11.42</td>\n",
              "      <td>20.38</td>\n",
              "      <td>77.58</td>\n",
              "      <td>386.1</td>\n",
              "      <td>0.14250</td>\n",
              "      <td>0.28390</td>\n",
              "      <td>0.2414</td>\n",
              "      <td>0.10520</td>\n",
              "      <td>...</td>\n",
              "      <td>14.91</td>\n",
              "      <td>26.50</td>\n",
              "      <td>98.87</td>\n",
              "      <td>567.7</td>\n",
              "      <td>0.2098</td>\n",
              "      <td>0.8663</td>\n",
              "      <td>0.6869</td>\n",
              "      <td>0.2575</td>\n",
              "      <td>0.6638</td>\n",
              "      <td>0.17300</td>\n",
              "    </tr>\n",
              "    <tr>\n",
              "      <th>4</th>\n",
              "      <td>84358402</td>\n",
              "      <td>M</td>\n",
              "      <td>20.29</td>\n",
              "      <td>14.34</td>\n",
              "      <td>135.10</td>\n",
              "      <td>1297.0</td>\n",
              "      <td>0.10030</td>\n",
              "      <td>0.13280</td>\n",
              "      <td>0.1980</td>\n",
              "      <td>0.10430</td>\n",
              "      <td>...</td>\n",
              "      <td>22.54</td>\n",
              "      <td>16.67</td>\n",
              "      <td>152.20</td>\n",
              "      <td>1575.0</td>\n",
              "      <td>0.1374</td>\n",
              "      <td>0.2050</td>\n",
              "      <td>0.4000</td>\n",
              "      <td>0.1625</td>\n",
              "      <td>0.2364</td>\n",
              "      <td>0.07678</td>\n",
              "    </tr>\n",
              "  </tbody>\n",
              "</table>\n",
              "<p>5 rows × 32 columns</p>\n",
              "</div>\n",
              "      <button class=\"colab-df-convert\" onclick=\"convertToInteractive('df-cf98320a-bef1-4d88-8956-33fd2df622e4')\"\n",
              "              title=\"Convert this dataframe to an interactive table.\"\n",
              "              style=\"display:none;\">\n",
              "        \n",
              "  <svg xmlns=\"http://www.w3.org/2000/svg\" height=\"24px\"viewBox=\"0 0 24 24\"\n",
              "       width=\"24px\">\n",
              "    <path d=\"M0 0h24v24H0V0z\" fill=\"none\"/>\n",
              "    <path d=\"M18.56 5.44l.94 2.06.94-2.06 2.06-.94-2.06-.94-.94-2.06-.94 2.06-2.06.94zm-11 1L8.5 8.5l.94-2.06 2.06-.94-2.06-.94L8.5 2.5l-.94 2.06-2.06.94zm10 10l.94 2.06.94-2.06 2.06-.94-2.06-.94-.94-2.06-.94 2.06-2.06.94z\"/><path d=\"M17.41 7.96l-1.37-1.37c-.4-.4-.92-.59-1.43-.59-.52 0-1.04.2-1.43.59L10.3 9.45l-7.72 7.72c-.78.78-.78 2.05 0 2.83L4 21.41c.39.39.9.59 1.41.59.51 0 1.02-.2 1.41-.59l7.78-7.78 2.81-2.81c.8-.78.8-2.07 0-2.86zM5.41 20L4 18.59l7.72-7.72 1.47 1.35L5.41 20z\"/>\n",
              "  </svg>\n",
              "      </button>\n",
              "      \n",
              "  <style>\n",
              "    .colab-df-container {\n",
              "      display:flex;\n",
              "      flex-wrap:wrap;\n",
              "      gap: 12px;\n",
              "    }\n",
              "\n",
              "    .colab-df-convert {\n",
              "      background-color: #E8F0FE;\n",
              "      border: none;\n",
              "      border-radius: 50%;\n",
              "      cursor: pointer;\n",
              "      display: none;\n",
              "      fill: #1967D2;\n",
              "      height: 32px;\n",
              "      padding: 0 0 0 0;\n",
              "      width: 32px;\n",
              "    }\n",
              "\n",
              "    .colab-df-convert:hover {\n",
              "      background-color: #E2EBFA;\n",
              "      box-shadow: 0px 1px 2px rgba(60, 64, 67, 0.3), 0px 1px 3px 1px rgba(60, 64, 67, 0.15);\n",
              "      fill: #174EA6;\n",
              "    }\n",
              "\n",
              "    [theme=dark] .colab-df-convert {\n",
              "      background-color: #3B4455;\n",
              "      fill: #D2E3FC;\n",
              "    }\n",
              "\n",
              "    [theme=dark] .colab-df-convert:hover {\n",
              "      background-color: #434B5C;\n",
              "      box-shadow: 0px 1px 3px 1px rgba(0, 0, 0, 0.15);\n",
              "      filter: drop-shadow(0px 1px 2px rgba(0, 0, 0, 0.3));\n",
              "      fill: #FFFFFF;\n",
              "    }\n",
              "  </style>\n",
              "\n",
              "      <script>\n",
              "        const buttonEl =\n",
              "          document.querySelector('#df-cf98320a-bef1-4d88-8956-33fd2df622e4 button.colab-df-convert');\n",
              "        buttonEl.style.display =\n",
              "          google.colab.kernel.accessAllowed ? 'block' : 'none';\n",
              "\n",
              "        async function convertToInteractive(key) {\n",
              "          const element = document.querySelector('#df-cf98320a-bef1-4d88-8956-33fd2df622e4');\n",
              "          const dataTable =\n",
              "            await google.colab.kernel.invokeFunction('convertToInteractive',\n",
              "                                                     [key], {});\n",
              "          if (!dataTable) return;\n",
              "\n",
              "          const docLinkHtml = 'Like what you see? Visit the ' +\n",
              "            '<a target=\"_blank\" href=https://colab.research.google.com/notebooks/data_table.ipynb>data table notebook</a>'\n",
              "            + ' to learn more about interactive tables.';\n",
              "          element.innerHTML = '';\n",
              "          dataTable['output_type'] = 'display_data';\n",
              "          await google.colab.output.renderOutput(dataTable, element);\n",
              "          const docLink = document.createElement('div');\n",
              "          docLink.innerHTML = docLinkHtml;\n",
              "          element.appendChild(docLink);\n",
              "        }\n",
              "      </script>\n",
              "    </div>\n",
              "  </div>\n",
              "  "
            ]
          },
          "metadata": {},
          "execution_count": 22
        }
      ]
    },
    {
      "cell_type": "markdown",
      "source": [
        "We'll also remove 'id' as it won't help us much in our development."
      ],
      "metadata": {
        "id": "F4ic2PSxSgkY"
      }
    },
    {
      "cell_type": "markdown",
      "source": [
        "## Delete id"
      ],
      "metadata": {
        "id": "H4JiHz7WT9Sm"
      }
    },
    {
      "cell_type": "code",
      "source": [
        "df_data.drop('id', axis=1, inplace=True)"
      ],
      "metadata": {
        "id": "MpDPa38tSW3s"
      },
      "execution_count": 23,
      "outputs": []
    },
    {
      "cell_type": "markdown",
      "source": [
        "## Convert to target variable numeric"
      ],
      "metadata": {
        "id": "QlQ6IX7oXvJd"
      }
    },
    {
      "cell_type": "code",
      "source": [
        "df_data['diagnosis'].replace(to_replace=\"B\", value=1, inplace=True)\n",
        "df_data['diagnosis'].replace(to_replace=\"M\", value=0, inplace=True)"
      ],
      "metadata": {
        "id": "ZmywHDDlT2lg"
      },
      "execution_count": 24,
      "outputs": []
    },
    {
      "cell_type": "code",
      "source": [
        "df_data['diagnosis']"
      ],
      "metadata": {
        "colab": {
          "base_uri": "https://localhost:8080/"
        },
        "id": "31Xkqb5nXeu0",
        "outputId": "ee71d356-7317-4cac-eca4-9ec2c987bcad"
      },
      "execution_count": 25,
      "outputs": [
        {
          "output_type": "execute_result",
          "data": {
            "text/plain": [
              "0      0\n",
              "1      0\n",
              "2      0\n",
              "3      0\n",
              "4      0\n",
              "      ..\n",
              "564    0\n",
              "565    0\n",
              "566    0\n",
              "567    0\n",
              "568    1\n",
              "Name: diagnosis, Length: 569, dtype: int64"
            ]
          },
          "metadata": {},
          "execution_count": 25
        }
      ]
    },
    {
      "cell_type": "code",
      "source": [
        "df_data_processing = df_data.copy()"
      ],
      "metadata": {
        "id": "-lr3sr6bXijb"
      },
      "execution_count": 26,
      "outputs": []
    },
    {
      "cell_type": "markdown",
      "source": [
        "We make a copy so as not to damage our original dataset."
      ],
      "metadata": {
        "id": "TpWJKUKrYS4z"
      }
    },
    {
      "cell_type": "markdown",
      "source": [
        "## Correlation Analysis"
      ],
      "metadata": {
        "id": "CFLekLxEbt77"
      }
    },
    {
      "cell_type": "code",
      "source": [
        "import matplotlib.pyplot as plt"
      ],
      "metadata": {
        "id": "OVaZdWdcbHIa"
      },
      "execution_count": 27,
      "outputs": []
    },
    {
      "cell_type": "code",
      "source": [
        "fig = plt.figure(figsize=(15,10))\n",
        "df_data_processing.corr()['diagnosis'].sort_values(ascending=True).plot(kind='bar')\n",
        "plt.show()"
      ],
      "metadata": {
        "colab": {
          "base_uri": "https://localhost:8080/",
          "height": 612
        },
        "id": "Ea53V3qybznG",
        "outputId": "057266fd-d8a7-40f0-fcd3-a58ba9326253"
      },
      "execution_count": 28,
      "outputs": [
        {
          "output_type": "display_data",
          "data": {
            "text/plain": [
              "<Figure size 1080x720 with 1 Axes>"
            ],
            "image/png": "[encoded data removed]"
          },
          "metadata": {
            "needs_background": "light"
          }
        }
      ]
    },
    {
      "cell_type": "markdown",
      "source": [
        "We observe that the vast majority of variables are inversely correlated."
      ],
      "metadata": {
        "id": "efgaslC3gwHe"
      }
    },
    {
      "cell_type": "markdown",
      "source": [
        "## Data Scalability"
      ],
      "metadata": {
        "id": "CkzJ1fycg_8G"
      }
    },
    {
      "cell_type": "code",
      "source": [
        "from sklearn.preprocessing import MinMaxScaler"
      ],
      "metadata": {
        "id": "oiRCm_gNcMzt"
      },
      "execution_count": 29,
      "outputs": []
    },
    {
      "cell_type": "code",
      "source": [
        "scaler = MinMaxScaler()\n",
        "df_data_processing_scaled = scaler.fit_transform(df_data_processing)"
      ],
      "metadata": {
        "id": "fDh9P9YxhHQy"
      },
      "execution_count": 30,
      "outputs": []
    },
    {
      "cell_type": "code",
      "source": [
        "df_data_processing_scaled = pd.DataFrame(df_data_processing_scaled)"
      ],
      "metadata": {
        "id": "1fYb4yjMhTsy"
      },
      "execution_count": 31,
      "outputs": []
    },
    {
      "cell_type": "code",
      "source": [
        "df_data_processing_scaled.columns = df_data_processing.columns"
      ],
      "metadata": {
        "id": "kc6bmA3shYJz"
      },
      "execution_count": 32,
      "outputs": []
    },
    {
      "cell_type": "code",
      "source": [
        "df_data_processing_scaled.head(5)"
      ],
      "metadata": {
        "colab": {
          "base_uri": "https://localhost:8080/",
          "height": 317
        },
        "id": "3F7KVmfthjya",
        "outputId": "22641785-a99b-4895-cf4d-009810248efb"
      },
      "execution_count": 33,
      "outputs": [
        {
          "output_type": "execute_result",
          "data": {
            "text/plain": [
              "   diagnosis  radius_mean  texture_mean  perimeter_mean  area_mean  \\\n",
              "0        0.0     0.521037      0.022658        0.545989   0.363733   \n",
              "1        0.0     0.643144      0.272574        0.615783   0.501591   \n",
              "2        0.0     0.601496      0.390260        0.595743   0.449417   \n",
              "3        0.0     0.210090      0.360839        0.233501   0.102906   \n",
              "4        0.0     0.629893      0.156578        0.630986   0.489290   \n",
              "\n",
              "   smoothness_mean  compactness_mean  concavity_mean  concave points_mean  \\\n",
              "0         0.593753          0.792037        0.703140             0.731113   \n",
              "1         0.289880          0.181768        0.203608             0.348757   \n",
              "2         0.514309          0.431017        0.462512             0.635686   \n",
              "3         0.811321          0.811361        0.565604             0.522863   \n",
              "4         0.430351          0.347893        0.463918             0.518390   \n",
              "\n",
              "   symmetry_mean  ...  radius_worst  texture_worst  perimeter_worst  \\\n",
              "0       0.686364  ...      0.620776       0.141525         0.668310   \n",
              "1       0.379798  ...      0.606901       0.303571         0.539818   \n",
              "2       0.509596  ...      0.556386       0.360075         0.508442   \n",
              "3       0.776263  ...      0.248310       0.385928         0.241347   \n",
              "4       0.378283  ...      0.519744       0.123934         0.506948   \n",
              "\n",
              "   area_worst  smoothness_worst  compactness_worst  concavity_worst  \\\n",
              "0    0.450698          0.601136           0.619292         0.568610   \n",
              "1    0.435214          0.347553           0.154563         0.192971   \n",
              "2    0.374508          0.483590           0.385375         0.359744   \n",
              "3    0.094008          0.915472           0.814012         0.548642   \n",
              "4    0.341575          0.437364           0.172415         0.319489   \n",
              "\n",
              "   concave points_worst  symmetry_worst  fractal_dimension_worst  \n",
              "0              0.912027        0.598462                 0.418864  \n",
              "1              0.639175        0.233590                 0.222878  \n",
              "2              0.835052        0.403706                 0.213433  \n",
              "3              0.884880        1.000000                 0.773711  \n",
              "4              0.558419        0.157500                 0.142595  \n",
              "\n",
              "[5 rows x 31 columns]"
            ],
            "text/html": [
              "\n",
              "  <div id=\"df-463c5dd7-30dd-4782-bef6-2de1a34a1481\">\n",
              "    <div class=\"colab-df-container\">\n",
              "      <div>\n",
              "<style scoped>\n",
              "    .dataframe tbody tr th:only-of-type {\n",
              "        vertical-align: middle;\n",
              "    }\n",
              "\n",
              "    .dataframe tbody tr th {\n",
              "        vertical-align: top;\n",
              "    }\n",
              "\n",
              "    .dataframe thead th {\n",
              "        text-align: right;\n",
              "    }\n",
              "</style>\n",
              "<table border=\"1\" class=\"dataframe\">\n",
              "  <thead>\n",
              "    <tr style=\"text-align: right;\">\n",
              "      <th></th>\n",
              "      <th>diagnosis</th>\n",
              "      <th>radius_mean</th>\n",
              "      <th>texture_mean</th>\n",
              "      <th>perimeter_mean</th>\n",
              "      <th>area_mean</th>\n",
              "      <th>smoothness_mean</th>\n",
              "      <th>compactness_mean</th>\n",
              "      <th>concavity_mean</th>\n",
              "      <th>concave points_mean</th>\n",
              "      <th>symmetry_mean</th>\n",
              "      <th>...</th>\n",
              "      <th>radius_worst</th>\n",
              "      <th>texture_worst</th>\n",
              "      <th>perimeter_worst</th>\n",
              "      <th>area_worst</th>\n",
              "      <th>smoothness_worst</th>\n",
              "      <th>compactness_worst</th>\n",
              "      <th>concavity_worst</th>\n",
              "      <th>concave points_worst</th>\n",
              "      <th>symmetry_worst</th>\n",
              "      <th>fractal_dimension_worst</th>\n",
              "    </tr>\n",
              "  </thead>\n",
              "  <tbody>\n",
              "    <tr>\n",
              "      <th>0</th>\n",
              "      <td>0.0</td>\n",
              "      <td>0.521037</td>\n",
              "      <td>0.022658</td>\n",
              "      <td>0.545989</td>\n",
              "      <td>0.363733</td>\n",
              "      <td>0.593753</td>\n",
              "      <td>0.792037</td>\n",
              "      <td>0.703140</td>\n",
              "      <td>0.731113</td>\n",
              "      <td>0.686364</td>\n",
              "      <td>...</td>\n",
              "      <td>0.620776</td>\n",
              "      <td>0.141525</td>\n",
              "      <td>0.668310</td>\n",
              "      <td>0.450698</td>\n",
              "      <td>0.601136</td>\n",
              "      <td>0.619292</td>\n",
              "      <td>0.568610</td>\n",
              "      <td>0.912027</td>\n",
              "      <td>0.598462</td>\n",
              "      <td>0.418864</td>\n",
              "    </tr>\n",
              "    <tr>\n",
              "      <th>1</th>\n",
              "      <td>0.0</td>\n",
              "      <td>0.643144</td>\n",
              "      <td>0.272574</td>\n",
              "      <td>0.615783</td>\n",
              "      <td>0.501591</td>\n",
              "      <td>0.289880</td>\n",
              "      <td>0.181768</td>\n",
              "      <td>0.203608</td>\n",
              "      <td>0.348757</td>\n",
              "      <td>0.379798</td>\n",
              "      <td>...</td>\n",
              "      <td>0.606901</td>\n",
              "      <td>0.303571</td>\n",
              "      <td>0.539818</td>\n",
              "      <td>0.435214</td>\n",
              "      <td>0.347553</td>\n",
              "      <td>0.154563</td>\n",
              "      <td>0.192971</td>\n",
              "      <td>0.639175</td>\n",
              "      <td>0.233590</td>\n",
              "      <td>0.222878</td>\n",
              "    </tr>\n",
              "    <tr>\n",
              "      <th>2</th>\n",
              "      <td>0.0</td>\n",
              "      <td>0.601496</td>\n",
              "      <td>0.390260</td>\n",
              "      <td>0.595743</td>\n",
              "      <td>0.449417</td>\n",
              "      <td>0.514309</td>\n",
              "      <td>0.431017</td>\n",
              "      <td>0.462512</td>\n",
              "      <td>0.635686</td>\n",
              "      <td>0.509596</td>\n",
              "      <td>...</td>\n",
              "      <td>0.556386</td>\n",
              "      <td>0.360075</td>\n",
              "      <td>0.508442</td>\n",
              "      <td>0.374508</td>\n",
              "      <td>0.483590</td>\n",
              "      <td>0.385375</td>\n",
              "      <td>0.359744</td>\n",
              "      <td>0.835052</td>\n",
              "      <td>0.403706</td>\n",
              "      <td>0.213433</td>\n",
              "    </tr>\n",
              "    <tr>\n",
              "      <th>3</th>\n",
              "      <td>0.0</td>\n",
              "      <td>0.210090</td>\n",
              "      <td>0.360839</td>\n",
              "      <td>0.233501</td>\n",
              "      <td>0.102906</td>\n",
              "      <td>0.811321</td>\n",
              "      <td>0.811361</td>\n",
              "      <td>0.565604</td>\n",
              "      <td>0.522863</td>\n",
              "      <td>0.776263</td>\n",
              "      <td>...</td>\n",
              "      <td>0.248310</td>\n",
              "      <td>0.385928</td>\n",
              "      <td>0.241347</td>\n",
              "      <td>0.094008</td>\n",
              "      <td>0.915472</td>\n",
              "      <td>0.814012</td>\n",
              "      <td>0.548642</td>\n",
              "      <td>0.884880</td>\n",
              "      <td>1.000000</td>\n",
              "      <td>0.773711</td>\n",
              "    </tr>\n",
              "    <tr>\n",
              "      <th>4</th>\n",
              "      <td>0.0</td>\n",
              "      <td>0.629893</td>\n",
              "      <td>0.156578</td>\n",
              "      <td>0.630986</td>\n",
              "      <td>0.489290</td>\n",
              "      <td>0.430351</td>\n",
              "      <td>0.347893</td>\n",
              "      <td>0.463918</td>\n",
              "      <td>0.518390</td>\n",
              "      <td>0.378283</td>\n",
              "      <td>...</td>\n",
              "      <td>0.519744</td>\n",
              "      <td>0.123934</td>\n",
              "      <td>0.506948</td>\n",
              "      <td>0.341575</td>\n",
              "      <td>0.437364</td>\n",
              "      <td>0.172415</td>\n",
              "      <td>0.319489</td>\n",
              "      <td>0.558419</td>\n",
              "      <td>0.157500</td>\n",
              "      <td>0.142595</td>\n",
              "    </tr>\n",
              "  </tbody>\n",
              "</table>\n",
              "<p>5 rows × 31 columns</p>\n",
              "</div>\n",
              "      <button class=\"colab-df-convert\" onclick=\"convertToInteractive('df-463c5dd7-30dd-4782-bef6-2de1a34a1481')\"\n",
              "              title=\"Convert this dataframe to an interactive table.\"\n",
              "              style=\"display:none;\">\n",
              "        \n",
              "  <svg xmlns=\"http://www.w3.org/2000/svg\" height=\"24px\"viewBox=\"0 0 24 24\"\n",
              "       width=\"24px\">\n",
              "    <path d=\"M0 0h24v24H0V0z\" fill=\"none\"/>\n",
              "    <path d=\"M18.56 5.44l.94 2.06.94-2.06 2.06-.94-2.06-.94-.94-2.06-.94 2.06-2.06.94zm-11 1L8.5 8.5l.94-2.06 2.06-.94-2.06-.94L8.5 2.5l-.94 2.06-2.06.94zm10 10l.94 2.06.94-2.06 2.06-.94-2.06-.94-.94-2.06-.94 2.06-2.06.94z\"/><path d=\"M17.41 7.96l-1.37-1.37c-.4-.4-.92-.59-1.43-.59-.52 0-1.04.2-1.43.59L10.3 9.45l-7.72 7.72c-.78.78-.78 2.05 0 2.83L4 21.41c.39.39.9.59 1.41.59.51 0 1.02-.2 1.41-.59l7.78-7.78 2.81-2.81c.8-.78.8-2.07 0-2.86zM5.41 20L4 18.59l7.72-7.72 1.47 1.35L5.41 20z\"/>\n",
              "  </svg>\n",
              "      </button>\n",
              "      \n",
              "  <style>\n",
              "    .colab-df-container {\n",
              "      display:flex;\n",
              "      flex-wrap:wrap;\n",
              "      gap: 12px;\n",
              "    }\n",
              "\n",
              "    .colab-df-convert {\n",
              "      background-color: #E8F0FE;\n",
              "      border: none;\n",
              "      border-radius: 50%;\n",
              "      cursor: pointer;\n",
              "      display: none;\n",
              "      fill: #1967D2;\n",
              "      height: 32px;\n",
              "      padding: 0 0 0 0;\n",
              "      width: 32px;\n",
              "    }\n",
              "\n",
              "    .colab-df-convert:hover {\n",
              "      background-color: #E2EBFA;\n",
              "      box-shadow: 0px 1px 2px rgba(60, 64, 67, 0.3), 0px 1px 3px 1px rgba(60, 64, 67, 0.15);\n",
              "      fill: #174EA6;\n",
              "    }\n",
              "\n",
              "    [theme=dark] .colab-df-convert {\n",
              "      background-color: #3B4455;\n",
              "      fill: #D2E3FC;\n",
              "    }\n",
              "\n",
              "    [theme=dark] .colab-df-convert:hover {\n",
              "      background-color: #434B5C;\n",
              "      box-shadow: 0px 1px 3px 1px rgba(0, 0, 0, 0.15);\n",
              "      filter: drop-shadow(0px 1px 2px rgba(0, 0, 0, 0.3));\n",
              "      fill: #FFFFFF;\n",
              "    }\n",
              "  </style>\n",
              "\n",
              "      <script>\n",
              "        const buttonEl =\n",
              "          document.querySelector('#df-463c5dd7-30dd-4782-bef6-2de1a34a1481 button.colab-df-convert');\n",
              "        buttonEl.style.display =\n",
              "          google.colab.kernel.accessAllowed ? 'block' : 'none';\n",
              "\n",
              "        async function convertToInteractive(key) {\n",
              "          const element = document.querySelector('#df-463c5dd7-30dd-4782-bef6-2de1a34a1481');\n",
              "          const dataTable =\n",
              "            await google.colab.kernel.invokeFunction('convertToInteractive',\n",
              "                                                     [key], {});\n",
              "          if (!dataTable) return;\n",
              "\n",
              "          const docLinkHtml = 'Like what you see? Visit the ' +\n",
              "            '<a target=\"_blank\" href=https://colab.research.google.com/notebooks/data_table.ipynb>data table notebook</a>'\n",
              "            + ' to learn more about interactive tables.';\n",
              "          element.innerHTML = '';\n",
              "          dataTable['output_type'] = 'display_data';\n",
              "          await google.colab.output.renderOutput(dataTable, element);\n",
              "          const docLink = document.createElement('div');\n",
              "          docLink.innerHTML = docLinkHtml;\n",
              "          element.appendChild(docLink);\n",
              "        }\n",
              "      </script>\n",
              "    </div>\n",
              "  </div>\n",
              "  "
            ]
          },
          "metadata": {},
          "execution_count": 33
        }
      ]
    },
    {
      "cell_type": "markdown",
      "source": [
        "## Training of Binomial Logistic Regression model\n"
      ],
      "metadata": {
        "id": "PrmHyM12iCla"
      }
    },
    {
      "cell_type": "code",
      "source": [
        "X = df_data_processing_scaled.drop('diagnosis', axis=1)\n",
        "y = df_data_processing_scaled['diagnosis'].values"
      ],
      "metadata": {
        "id": "XSEcl3FLi5xD"
      },
      "execution_count": 38,
      "outputs": []
    },
    {
      "cell_type": "code",
      "source": [
        "from sklearn.model_selection import train_test_split\n",
        "X_train, X_test, y_train, y_test = train_test_split(X,y, test_size=0.3, random_state=42)"
      ],
      "metadata": {
        "id": "22n3tqhJi9n9"
      },
      "execution_count": 39,
      "outputs": []
    },
    {
      "cell_type": "code",
      "source": [
        "from sklearn.linear_model import LogisticRegression\n",
        "model = LogisticRegression()\n",
        "result = model.fit(X_train, y_train)"
      ],
      "metadata": {
        "id": "Dpg3MCqWlRqN"
      },
      "execution_count": 40,
      "outputs": []
    },
    {
      "cell_type": "code",
      "source": [
        "from sklearn import metrics\n",
        "prediction_test = model.predict(X_test)\n",
        "print(metrics.accuracy_score(y_test, prediction_test))"
      ],
      "metadata": {
        "colab": {
          "base_uri": "https://localhost:8080/"
        },
        "id": "oc017EerldBk",
        "outputId": "de58c87b-9905-476d-9468-7713ea9fe09d"
      },
      "execution_count": 41,
      "outputs": [
        {
          "output_type": "stream",
          "name": "stdout",
          "text": [
            "0.9766081871345029\n"
          ]
        }
      ]
    },
    {
      "cell_type": "markdown",
      "source": [
        "The result was 97.6% accuracy. We'll see if it's a good result."
      ],
      "metadata": {
        "id": "u0haCza4l6hk"
      }
    },
    {
      "cell_type": "markdown",
      "source": [
        "## Evaluation Model"
      ],
      "metadata": {
        "id": "Sp8P94Etl6TT"
      }
    },
    {
      "cell_type": "code",
      "source": [
        "model.predict_log_proba(X_test)"
      ],
      "metadata": {
        "colab": {
          "base_uri": "https://localhost:8080/"
        },
        "id": "DztniLPflvjV",
        "outputId": "436629e4-af08-4392-e254-8f651a0dca56"
      },
      "execution_count": 42,
      "outputs": [
        {
          "output_type": "execute_result",
          "data": {
            "text/plain": [
              "array([[-1.68366311e+00, -2.05417242e-01],\n",
              "       [-3.93150403e-02, -3.25574125e+00],\n",
              "       [-1.90949955e-01, -1.74970009e+00],\n",
              "       [-2.73932254e+00, -6.67961132e-02],\n",
              "       [-3.70616958e+00, -2.48783786e-02],\n",
              "       [-1.02527803e-04, -9.18542781e+00],\n",
              "       [-9.48896316e-04, -6.96068543e+00],\n",
              "       [-3.54088955e-01, -1.21003291e+00],\n",
              "       [-6.99330286e-01, -6.87002071e-01],\n",
              "       [-3.12888627e+00, -4.47531638e-02],\n",
              "       [-2.06476684e+00, -1.35645469e-01],\n",
              "       [-3.09673711e-01, -1.32308038e+00],\n",
              "       [-2.44562470e+00, -9.06601789e-02],\n",
              "       [-3.93693328e-01, -1.12257991e+00],\n",
              "       [-3.04825597e+00, -4.86038529e-02],\n",
              "       [-2.34373654e-02, -3.76511951e+00],\n",
              "       [-2.80788922e+00, -6.22288771e-02],\n",
              "       [-4.77324008e+00, -8.48887631e-03],\n",
              "       [-6.30732051e+00, -1.82457469e-03],\n",
              "       [-6.72618946e-03, -5.00510771e+00],\n",
              "       [-1.28311480e+00, -3.24584837e-01],\n",
              "       [-2.49318130e+00, -8.62625200e-02],\n",
              "       [-6.49708573e-04, -7.33931148e+00],\n",
              "       [-4.65793272e+00, -9.53133167e-03],\n",
              "       [-3.21631034e+00, -4.09290325e-02],\n",
              "       [-2.76117362e+00, -6.53041810e-02],\n",
              "       [-2.82391789e+00, -6.12084664e-02],\n",
              "       [-2.52951819e+00, -8.30527608e-02],\n",
              "       [-2.68227282e+00, -7.08597912e-02],\n",
              "       [-1.15505310e-02, -4.46679357e+00],\n",
              "       [-3.12598948e+00, -4.48859499e-02],\n",
              "       [-3.92882598e+00, -1.98627123e-02],\n",
              "       [-3.70103181e+00, -2.50081427e-02],\n",
              "       [-2.64435948e+00, -7.37012763e-02],\n",
              "       [-4.00957378e+00, -1.83076934e-02],\n",
              "       [-3.26820892e+00, -3.88183372e-02],\n",
              "       [-6.83142867e-01, -7.03252593e-01],\n",
              "       [-3.57276367e+00, -2.84798767e-02],\n",
              "       [-4.80031184e-02, -3.06039485e+00],\n",
              "       [-1.74870348e+00, -1.91159768e-01],\n",
              "       [-4.06419638e+00, -1.73260196e-02],\n",
              "       [-1.59099620e-01, -1.91672007e+00],\n",
              "       [-2.55336846e+00, -8.10138636e-02],\n",
              "       [-3.26362963e+00, -3.90000251e-02],\n",
              "       [-2.46268555e+00, -8.90561782e-02],\n",
              "       [-2.29380750e+00, -1.06340576e-01],\n",
              "       [-3.69119474e+00, -2.52585122e-02],\n",
              "       [-4.28119979e+00, -1.39225340e-02],\n",
              "       [-2.12600231e+00, -1.27053356e-01],\n",
              "       [-2.82545132e+00, -6.11117546e-02],\n",
              "       [-6.20632226e-02, -2.81047282e+00],\n",
              "       [-3.91030271e-03, -5.54609500e+00],\n",
              "       [-1.01943689e+00, -4.47534837e-01],\n",
              "       [-1.99140774e+00, -1.46765005e-01],\n",
              "       [-3.73213776e+00, -2.42328579e-02],\n",
              "       [-2.38649217e+00, -9.64576741e-02],\n",
              "       [-3.52885764e+00, -2.97773901e-02],\n",
              "       [-4.26501858e-05, -1.00625003e+01],\n",
              "       [-3.77986123e-01, -1.15594487e+00],\n",
              "       [-3.84525814e+00, -2.16127639e-02],\n",
              "       [-2.48013923e+00, -8.74459078e-02],\n",
              "       [-5.47780877e-03, -5.20978777e+00],\n",
              "       [-2.45447062e-03, -6.01107116e+00],\n",
              "       [-2.01283465e+00, -1.43419435e-01],\n",
              "       [-3.60632400e+00, -2.75268846e-02],\n",
              "       [-1.58300479e+00, -2.29862467e-01],\n",
              "       [-2.19507036e-02, -3.82991136e+00],\n",
              "       [-2.79874424e-04, -8.18130947e+00],\n",
              "       [-3.39034670e+00, -3.42778212e-02],\n",
              "       [-1.90272970e+00, -1.61532238e-01],\n",
              "       [-2.02759610e-01, -1.69540160e+00],\n",
              "       [-1.27319897e-01, -2.12403709e+00],\n",
              "       [-2.66618015e+00, -7.20517567e-02],\n",
              "       [-9.03100172e-02, -2.44932209e+00],\n",
              "       [-5.15236267e+00, -5.80252095e-03],\n",
              "       [-1.93303099e+00, -1.56313426e-01],\n",
              "       [-2.13752805e+00, -1.25502045e-01],\n",
              "       [-8.46933708e-01, -5.59888989e-01],\n",
              "       [-4.81816388e+00, -8.11444561e-03],\n",
              "       [-2.09456277e+00, -1.31389763e-01],\n",
              "       [-1.91264150e-01, -1.74820811e+00],\n",
              "       [-4.67245172e+00, -9.39329869e-03],\n",
              "       [-6.53985293e-01, -7.33905451e-01],\n",
              "       [-2.23634319e-03, -6.10403122e+00],\n",
              "       [-2.27529835e-01, -1.59208268e+00],\n",
              "       [-5.43237321e-02, -2.93983300e+00],\n",
              "       [-2.48098029e-02, -3.70889568e+00],\n",
              "       [-3.55104754e-02, -3.35563024e+00],\n",
              "       [-2.82931060e+00, -6.08690495e-02],\n",
              "       [-2.45475498e+00, -8.97980591e-02],\n",
              "       [-2.63745704e+00, -7.42311774e-02],\n",
              "       [-1.11230661e+00, -3.98687635e-01],\n",
              "       [-1.62447762e+00, -2.19418704e-01],\n",
              "       [-3.98709114e+00, -1.87278828e-02],\n",
              "       [-3.73757617e+00, -2.40998309e-02],\n",
              "       [-4.21841225e+00, -1.48314450e-02],\n",
              "       [-1.18797665e-02, -4.43885262e+00],\n",
              "       [-1.48450947e-02, -4.21749916e+00],\n",
              "       [-4.37579692e+00, -1.26578886e-02],\n",
              "       [-6.77925090e-02, -2.72500835e+00],\n",
              "       [-2.17028341e-01, -1.63427972e+00],\n",
              "       [-6.01730257e+00, -2.43920475e-03],\n",
              "       [-2.54311751e-02, -3.68446813e+00],\n",
              "       [-6.16313747e-02, -2.81724163e+00],\n",
              "       [-3.12674831e+00, -4.48511271e-02],\n",
              "       [-2.24257473e+00, -1.12256187e-01],\n",
              "       [-2.35122250e+00, -1.00099540e-01],\n",
              "       [-1.22104818e-03, -6.70865609e+00],\n",
              "       [-1.16935225e+00, -3.71887276e-01],\n",
              "       [-1.95452189e+00, -1.52722572e-01],\n",
              "       [-2.37432715e-01, -1.55423953e+00],\n",
              "       [-3.07180266e+00, -4.74454945e-02],\n",
              "       [-9.26384853e-01, -5.04152375e-01],\n",
              "       [-4.39976974e-04, -7.72900814e+00],\n",
              "       [-1.10487176e+00, -4.02350007e-01],\n",
              "       [-2.83575035e-04, -8.16817558e+00],\n",
              "       [-4.92669074e+00, -7.27686957e-03],\n",
              "       [-2.43454038e+00, -9.17184576e-02],\n",
              "       [-4.56185165e+00, -1.04976124e-02],\n",
              "       [-3.95419374e-02, -3.25009929e+00],\n",
              "       [-1.88770905e+00, -1.64188916e-01],\n",
              "       [-3.46641172e+00, -3.17269053e-02],\n",
              "       [-2.75723408e+00, -6.55705957e-02],\n",
              "       [-3.35806808e-02, -3.41054771e+00],\n",
              "       [-1.62157582e+00, -2.20131956e-01],\n",
              "       [-5.11707973e-03, -5.27772882e+00],\n",
              "       [-7.41273414e-02, -2.63880556e+00],\n",
              "       [-3.73867716e+00, -2.40729902e-02],\n",
              "       [-3.05017362e+00, -4.85084414e-02],\n",
              "       [-8.06360222e-03, -4.82442399e+00],\n",
              "       [-1.98166843e-03, -6.22480682e+00],\n",
              "       [-5.88995414e-03, -5.13745060e+00],\n",
              "       [-2.51967927e+00, -8.39093750e-02],\n",
              "       [-3.36635868e+00, -3.51248058e-02],\n",
              "       [-2.04451971e+00, -1.38621289e-01],\n",
              "       [-7.76020450e-02, -2.59471161e+00],\n",
              "       [-1.02276052e+00, -4.45663679e-01],\n",
              "       [-2.94318179e+00, -5.41371113e-02],\n",
              "       [-9.69215757e-01, -4.77037023e-01],\n",
              "       [-1.56769763e-01, -1.93033809e+00],\n",
              "       [-3.15250135e+00, -4.36855414e-02],\n",
              "       [-2.86590967e-03, -5.85630208e+00],\n",
              "       [-4.57870595e+00, -1.03212566e-02],\n",
              "       [-4.51702543e+00, -1.09815390e-02],\n",
              "       [-1.80056807e-01, -1.80316080e+00],\n",
              "       [-2.95461721e+00, -5.35047899e-02],\n",
              "       [-1.41323617e-02, -4.26634581e+00],\n",
              "       [-1.35492106e-02, -4.30819395e+00],\n",
              "       [-7.42509057e-01, -6.46107710e-01],\n",
              "       [-3.91659035e+00, -2.01097130e-02],\n",
              "       [-5.45591105e-01, -8.66308748e-01],\n",
              "       [-4.23222693e+00, -1.46264666e-02],\n",
              "       [-5.45865486e+00, -4.26837778e-03],\n",
              "       [-2.10691148e+00, -1.29667999e-01],\n",
              "       [-3.56704788e+00, -2.86454884e-02],\n",
              "       [-3.46010872e-05, -1.02716428e+01],\n",
              "       [-2.87607546e-02, -3.56308942e+00],\n",
              "       [-5.44900132e+00, -4.30987164e-03],\n",
              "       [-2.32736995e+00, -1.02644182e-01],\n",
              "       [-4.88785421e+00, -7.56613034e-03],\n",
              "       [-6.30233972e+00, -1.83369355e-03],\n",
              "       [-3.55798607e+00, -2.89100536e-02],\n",
              "       [-4.65750814e+00, -9.53539865e-03],\n",
              "       [-2.60280988e+00, -7.69514264e-02],\n",
              "       [-7.90552875e-01, -6.04392890e-01],\n",
              "       [-3.23050560e+00, -4.03403434e-02],\n",
              "       [-3.37570061e+00, -3.47924515e-02],\n",
              "       [-1.14632231e+00, -3.82437401e-01],\n",
              "       [-3.42201833e+00, -3.31912630e-02],\n",
              "       [-2.16431550e-01, -1.63674571e+00],\n",
              "       [-1.40248062e+00, -2.82344356e-01]])"
            ]
          },
          "metadata": {},
          "execution_count": 42
        }
      ]
    },
    {
      "cell_type": "code",
      "source": [
        "model.coef_"
      ],
      "metadata": {
        "colab": {
          "base_uri": "https://localhost:8080/"
        },
        "id": "t7JmNko0mJVv",
        "outputId": "db150005-b643-4fe1-c099-cc7fb0367583"
      },
      "execution_count": 43,
      "outputs": [
        {
          "output_type": "execute_result",
          "data": {
            "text/plain": [
              "array([[-1.64007217, -1.46893324, -1.60642229, -1.40205492, -0.63380239,\n",
              "        -0.334529  , -1.33551108, -2.03333012, -0.41711154,  0.84752298,\n",
              "        -1.12484985, -0.0685475 , -0.84732831, -0.73961645, -0.00911603,\n",
              "         0.49938183,  0.18313026, -0.29647412,  0.2322643 ,  0.59318976,\n",
              "        -2.06103544, -2.08993358, -1.86669948, -1.48502344, -1.31045546,\n",
              "        -0.78141258, -1.4011101 , -2.44998273, -1.29491442, -0.22237539]])"
            ]
          },
          "metadata": {},
          "execution_count": 43
        }
      ]
    },
    {
      "cell_type": "markdown",
      "source": [
        "These data indicate the importance of the different features that I am using to make the prediction. Negative results are very important for the prediction when it is zero."
      ],
      "metadata": {
        "id": "PFRY1GN2oGEX"
      }
    },
    {
      "cell_type": "code",
      "source": [
        "model.feature_names_in_"
      ],
      "metadata": {
        "colab": {
          "base_uri": "https://localhost:8080/"
        },
        "id": "-s9eoMGkmQFb",
        "outputId": "2033842f-7157-42e8-d8ce-44019495c360"
      },
      "execution_count": 44,
      "outputs": [
        {
          "output_type": "execute_result",
          "data": {
            "text/plain": [
              "array(['radius_mean', 'texture_mean', 'perimeter_mean', 'area_mean',\n",
              "       'smoothness_mean', 'compactness_mean', 'concavity_mean',\n",
              "       'concave points_mean', 'symmetry_mean', 'fractal_dimension_mean',\n",
              "       'radius_se', 'texture_se', 'perimeter_se', 'area_se',\n",
              "       'smoothness_se', 'compactness_se', 'concavity_se',\n",
              "       'concave points_se', 'symmetry_se', 'fractal_dimension_se',\n",
              "       'radius_worst', 'texture_worst', 'perimeter_worst', 'area_worst',\n",
              "       'smoothness_worst', 'compactness_worst', 'concavity_worst',\n",
              "       'concave points_worst', 'symmetry_worst',\n",
              "       'fractal_dimension_worst'], dtype=object)"
            ]
          },
          "metadata": {},
          "execution_count": 44
        }
      ]
    },
    {
      "cell_type": "code",
      "source": [
        "weights = pd.Series(model.coef_[0],\n",
        "                    index=X.columns.values)\n",
        "print(weights.sort_values(ascending=False)[:10].plot(kind='bar'))"
      ],
      "metadata": {
        "colab": {
          "base_uri": "https://localhost:8080/",
          "height": 396
        },
        "id": "7b_ioZsRokN-",
        "outputId": "6d2cc037-2637-4922-d0a2-cf3d515005f7"
      },
      "execution_count": 45,
      "outputs": [
        {
          "output_type": "stream",
          "name": "stdout",
          "text": [
            "AxesSubplot(0.125,0.125;0.775x0.755)\n"
          ]
        },
        {
          "output_type": "display_data",
          "data": {
            "text/plain": [
              "<Figure size 432x288 with 1 Axes>"
            ],
            "image/png": "[encoded data removed]"
          },
          "metadata": {
            "needs_background": "light"
          }
        }
      ]
    },
    {
      "cell_type": "markdown",
      "source": [
        "Here we observe that for the positive prediction we find fractal_dimension_mean, fractal_dimension_se, compactness_se."
      ],
      "metadata": {
        "id": "uUMxaLTlsls-"
      }
    },
    {
      "cell_type": "code",
      "source": [
        "print(weights.sort_values(ascending=False)[-10:].plot(kind='bar'))"
      ],
      "metadata": {
        "colab": {
          "base_uri": "https://localhost:8080/",
          "height": 386
        },
        "id": "NzAFosqKo_Sp",
        "outputId": "b1ae4d0a-6272-4da9-e027-e92134170c76"
      },
      "execution_count": 46,
      "outputs": [
        {
          "output_type": "stream",
          "name": "stdout",
          "text": [
            "AxesSubplot(0.125,0.125;0.775x0.755)\n"
          ]
        },
        {
          "output_type": "display_data",
          "data": {
            "text/plain": [
              "<Figure size 432x288 with 1 Axes>"
            ],
            "image/png": "[encoded data removed]"
          },
          "metadata": {
            "needs_background": "light"
          }
        }
      ]
    },
    {
      "cell_type": "markdown",
      "source": [
        "For the negative prediction we find concave_points_worst, texture_worst, radius_worst, etc."
      ],
      "metadata": {
        "id": "H2ZRWEzOtd3y"
      }
    },
    {
      "cell_type": "code",
      "source": [
        "from sklearn.metrics import confusion_matrix, ConfusionMatrixDisplay"
      ],
      "metadata": {
        "id": "8aazxfuKpItM"
      },
      "execution_count": 47,
      "outputs": []
    },
    {
      "cell_type": "code",
      "source": [
        "fig = plt.figure(figsize=(11,11))\n",
        "cm = confusion_matrix(y_test, prediction_test, labels=model.classes_)\n",
        "disp = ConfusionMatrixDisplay(confusion_matrix = cm, display_labels=model.classes_)\n",
        "disp.plot(cmap='gray')\n",
        "plt.show()"
      ],
      "metadata": {
        "colab": {
          "base_uri": "https://localhost:8080/",
          "height": 297
        },
        "id": "uGDxYIk7uqK2",
        "outputId": "031fbe2f-cb1e-429a-93af-e1878bb524df"
      },
      "execution_count": 48,
      "outputs": [
        {
          "output_type": "display_data",
          "data": {
            "text/plain": [
              "<Figure size 792x792 with 0 Axes>"
            ]
          },
          "metadata": {}
        },
        {
          "output_type": "display_data",
          "data": {
            "text/plain": [
              "<Figure size 432x288 with 2 Axes>"
            ],
            "image/png": "[encoded data removed]"
          },
          "metadata": {
            "needs_background": "light"
          }
        }
      ]
    },
    {
      "cell_type": "markdown",
      "source": [
        "Here we can understand much better the prediction."
      ],
      "metadata": {
        "id": "fGkpJHwM0KEI"
      }
    },
    {
      "cell_type": "code",
      "source": [],
      "metadata": {
        "id": "5_Q9d3nvvDgt"
      },
      "execution_count": null,
      "outputs": []
    }
  ]
}